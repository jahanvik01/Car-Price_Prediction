{
 "cells": [
  {
   "cell_type": "code",
   "execution_count": 1,
   "id": "7f3d81c6-fb5a-414e-ada0-b57454cd65af",
   "metadata": {},
   "outputs": [],
   "source": [
    "# importing libraries\n",
    "import pandas as pd\n",
    "import numpy as np\n",
    "import matplotlib.pyplot as plt \n",
    "import seaborn as sns "
   ]
  },
  {
   "cell_type": "code",
   "execution_count": 2,
   "id": "4fd1825a-1d84-4807-8cfb-257f18eb87e4",
   "metadata": {},
   "outputs": [],
   "source": [
    "df= pd.read_csv(\"Cardetails.csv\")"
   ]
  },
  {
   "cell_type": "code",
   "execution_count": 3,
   "id": "c200d37a-9ea4-40eb-8103-97c635e92395",
   "metadata": {},
   "outputs": [
    {
     "data": {
      "text/html": [
       "<div>\n",
       "<style scoped>\n",
       "    .dataframe tbody tr th:only-of-type {\n",
       "        vertical-align: middle;\n",
       "    }\n",
       "\n",
       "    .dataframe tbody tr th {\n",
       "        vertical-align: top;\n",
       "    }\n",
       "\n",
       "    .dataframe thead th {\n",
       "        text-align: right;\n",
       "    }\n",
       "</style>\n",
       "<table border=\"1\" class=\"dataframe\">\n",
       "  <thead>\n",
       "    <tr style=\"text-align: right;\">\n",
       "      <th></th>\n",
       "      <th>name</th>\n",
       "      <th>year</th>\n",
       "      <th>selling_price</th>\n",
       "      <th>km_driven</th>\n",
       "      <th>fuel</th>\n",
       "      <th>seller_type</th>\n",
       "      <th>transmission</th>\n",
       "      <th>owner</th>\n",
       "      <th>mileage</th>\n",
       "      <th>engine</th>\n",
       "      <th>max_power</th>\n",
       "      <th>torque</th>\n",
       "      <th>seats</th>\n",
       "    </tr>\n",
       "  </thead>\n",
       "  <tbody>\n",
       "    <tr>\n",
       "      <th>0</th>\n",
       "      <td>Maruti Swift Dzire VDI</td>\n",
       "      <td>2014</td>\n",
       "      <td>450000</td>\n",
       "      <td>145500</td>\n",
       "      <td>Diesel</td>\n",
       "      <td>Individual</td>\n",
       "      <td>Manual</td>\n",
       "      <td>First Owner</td>\n",
       "      <td>23.4 kmpl</td>\n",
       "      <td>1248 CC</td>\n",
       "      <td>74 bhp</td>\n",
       "      <td>190Nm@ 2000rpm</td>\n",
       "      <td>5.0</td>\n",
       "    </tr>\n",
       "    <tr>\n",
       "      <th>1</th>\n",
       "      <td>Skoda Rapid 1.5 TDI Ambition</td>\n",
       "      <td>2014</td>\n",
       "      <td>370000</td>\n",
       "      <td>120000</td>\n",
       "      <td>Diesel</td>\n",
       "      <td>Individual</td>\n",
       "      <td>Manual</td>\n",
       "      <td>Second Owner</td>\n",
       "      <td>21.14 kmpl</td>\n",
       "      <td>1498 CC</td>\n",
       "      <td>103.52 bhp</td>\n",
       "      <td>250Nm@ 1500-2500rpm</td>\n",
       "      <td>5.0</td>\n",
       "    </tr>\n",
       "    <tr>\n",
       "      <th>2</th>\n",
       "      <td>Honda City 2017-2020 EXi</td>\n",
       "      <td>2006</td>\n",
       "      <td>158000</td>\n",
       "      <td>140000</td>\n",
       "      <td>Petrol</td>\n",
       "      <td>Individual</td>\n",
       "      <td>Manual</td>\n",
       "      <td>Third Owner</td>\n",
       "      <td>17.7 kmpl</td>\n",
       "      <td>1497 CC</td>\n",
       "      <td>78 bhp</td>\n",
       "      <td>12.7@ 2,700(kgm@ rpm)</td>\n",
       "      <td>5.0</td>\n",
       "    </tr>\n",
       "    <tr>\n",
       "      <th>3</th>\n",
       "      <td>Hyundai i20 Sportz Diesel</td>\n",
       "      <td>2010</td>\n",
       "      <td>225000</td>\n",
       "      <td>127000</td>\n",
       "      <td>Diesel</td>\n",
       "      <td>Individual</td>\n",
       "      <td>Manual</td>\n",
       "      <td>First Owner</td>\n",
       "      <td>23.0 kmpl</td>\n",
       "      <td>1396 CC</td>\n",
       "      <td>90 bhp</td>\n",
       "      <td>22.4 kgm at 1750-2750rpm</td>\n",
       "      <td>5.0</td>\n",
       "    </tr>\n",
       "    <tr>\n",
       "      <th>4</th>\n",
       "      <td>Maruti Swift VXI BSIII</td>\n",
       "      <td>2007</td>\n",
       "      <td>130000</td>\n",
       "      <td>120000</td>\n",
       "      <td>Petrol</td>\n",
       "      <td>Individual</td>\n",
       "      <td>Manual</td>\n",
       "      <td>First Owner</td>\n",
       "      <td>16.1 kmpl</td>\n",
       "      <td>1298 CC</td>\n",
       "      <td>88.2 bhp</td>\n",
       "      <td>11.5@ 4,500(kgm@ rpm)</td>\n",
       "      <td>5.0</td>\n",
       "    </tr>\n",
       "  </tbody>\n",
       "</table>\n",
       "</div>"
      ],
      "text/plain": [
       "                           name  year  selling_price  km_driven    fuel  \\\n",
       "0        Maruti Swift Dzire VDI  2014         450000     145500  Diesel   \n",
       "1  Skoda Rapid 1.5 TDI Ambition  2014         370000     120000  Diesel   \n",
       "2      Honda City 2017-2020 EXi  2006         158000     140000  Petrol   \n",
       "3     Hyundai i20 Sportz Diesel  2010         225000     127000  Diesel   \n",
       "4        Maruti Swift VXI BSIII  2007         130000     120000  Petrol   \n",
       "\n",
       "  seller_type transmission         owner     mileage   engine   max_power  \\\n",
       "0  Individual       Manual   First Owner   23.4 kmpl  1248 CC      74 bhp   \n",
       "1  Individual       Manual  Second Owner  21.14 kmpl  1498 CC  103.52 bhp   \n",
       "2  Individual       Manual   Third Owner   17.7 kmpl  1497 CC      78 bhp   \n",
       "3  Individual       Manual   First Owner   23.0 kmpl  1396 CC      90 bhp   \n",
       "4  Individual       Manual   First Owner   16.1 kmpl  1298 CC    88.2 bhp   \n",
       "\n",
       "                     torque  seats  \n",
       "0            190Nm@ 2000rpm    5.0  \n",
       "1       250Nm@ 1500-2500rpm    5.0  \n",
       "2     12.7@ 2,700(kgm@ rpm)    5.0  \n",
       "3  22.4 kgm at 1750-2750rpm    5.0  \n",
       "4     11.5@ 4,500(kgm@ rpm)    5.0  "
      ]
     },
     "execution_count": 3,
     "metadata": {},
     "output_type": "execute_result"
    }
   ],
   "source": [
    "df.head()"
   ]
  },
  {
   "cell_type": "code",
   "execution_count": 4,
   "id": "9d49197d-9c73-41f9-a993-83354b73da4d",
   "metadata": {},
   "outputs": [
    {
     "data": {
      "text/plain": [
       "array(['Maruti Swift Dzire VDI', 'Skoda Rapid 1.5 TDI Ambition',\n",
       "       'Honda City 2017-2020 EXi', ..., 'Tata Nexon 1.5 Revotorq XT',\n",
       "       'Ford Freestyle Titanium Plus Diesel BSIV',\n",
       "       'Toyota Innova 2.5 GX (Diesel) 8 Seater BS IV'], dtype=object)"
      ]
     },
     "execution_count": 4,
     "metadata": {},
     "output_type": "execute_result"
    }
   ],
   "source": [
    "df['name'].unique()"
   ]
  },
  {
   "cell_type": "code",
   "execution_count": 5,
   "id": "32180cba-ccb7-4c96-aeab-8dd3f4ffa4ef",
   "metadata": {},
   "outputs": [
    {
     "name": "stdout",
     "output_type": "stream",
     "text": [
      "<class 'pandas.core.frame.DataFrame'>\n",
      "RangeIndex: 8128 entries, 0 to 8127\n",
      "Data columns (total 13 columns):\n",
      " #   Column         Non-Null Count  Dtype  \n",
      "---  ------         --------------  -----  \n",
      " 0   name           8128 non-null   object \n",
      " 1   year           8128 non-null   int64  \n",
      " 2   selling_price  8128 non-null   int64  \n",
      " 3   km_driven      8128 non-null   int64  \n",
      " 4   fuel           8128 non-null   object \n",
      " 5   seller_type    8128 non-null   object \n",
      " 6   transmission   8128 non-null   object \n",
      " 7   owner          8128 non-null   object \n",
      " 8   mileage        7907 non-null   object \n",
      " 9   engine         7907 non-null   object \n",
      " 10  max_power      7913 non-null   object \n",
      " 11  torque         7906 non-null   object \n",
      " 12  seats          7907 non-null   float64\n",
      "dtypes: float64(1), int64(3), object(9)\n",
      "memory usage: 825.6+ KB\n"
     ]
    }
   ],
   "source": [
    "df.info()"
   ]
  },
  {
   "cell_type": "code",
   "execution_count": 6,
   "id": "ae1af40e-3a61-4177-abde-7fec38346809",
   "metadata": {},
   "outputs": [
    {
     "data": {
      "text/plain": [
       "(8128, 13)"
      ]
     },
     "execution_count": 6,
     "metadata": {},
     "output_type": "execute_result"
    }
   ],
   "source": [
    "df.shape"
   ]
  },
  {
   "cell_type": "code",
   "execution_count": 7,
   "id": "15a4768c-dffe-418d-90ff-19ac73bc99ab",
   "metadata": {},
   "outputs": [
    {
     "data": {
      "text/plain": [
       "Index(['name', 'year', 'selling_price', 'km_driven', 'fuel', 'seller_type',\n",
       "       'transmission', 'owner', 'mileage', 'engine', 'max_power', 'torque',\n",
       "       'seats'],\n",
       "      dtype='object')"
      ]
     },
     "execution_count": 7,
     "metadata": {},
     "output_type": "execute_result"
    }
   ],
   "source": [
    "df.columns"
   ]
  },
  {
   "cell_type": "code",
   "execution_count": 8,
   "id": "3044f855-3dde-4028-b17c-2f913349d94a",
   "metadata": {},
   "outputs": [
    {
     "name": "stdout",
     "output_type": "stream",
     "text": [
      "<class 'pandas.core.frame.DataFrame'>\n",
      "RangeIndex: 8128 entries, 0 to 8127\n",
      "Data columns (total 13 columns):\n",
      " #   Column         Non-Null Count  Dtype  \n",
      "---  ------         --------------  -----  \n",
      " 0   name           8128 non-null   object \n",
      " 1   year           8128 non-null   int64  \n",
      " 2   selling_price  8128 non-null   int64  \n",
      " 3   km_driven      8128 non-null   int64  \n",
      " 4   fuel           8128 non-null   object \n",
      " 5   seller_type    8128 non-null   object \n",
      " 6   transmission   8128 non-null   object \n",
      " 7   owner          8128 non-null   object \n",
      " 8   mileage        7907 non-null   object \n",
      " 9   engine         7907 non-null   object \n",
      " 10  max_power      7913 non-null   object \n",
      " 11  torque         7906 non-null   object \n",
      " 12  seats          7907 non-null   float64\n",
      "dtypes: float64(1), int64(3), object(9)\n",
      "memory usage: 825.6+ KB\n"
     ]
    }
   ],
   "source": [
    "df.info()"
   ]
  },
  {
   "cell_type": "code",
   "execution_count": 9,
   "id": "fe0ef208-958d-459b-9343-22b47410d0a6",
   "metadata": {},
   "outputs": [
    {
     "data": {
      "text/plain": [
       "np.int64(1202)"
      ]
     },
     "execution_count": 9,
     "metadata": {},
     "output_type": "execute_result"
    }
   ],
   "source": [
    "# duplicates check \n",
    "df.duplicated().sum()"
   ]
  },
  {
   "cell_type": "code",
   "execution_count": 10,
   "id": "f7892f3b-9a2a-4681-8df5-000704cbe4df",
   "metadata": {},
   "outputs": [],
   "source": [
    "df.drop_duplicates(inplace= True)"
   ]
  },
  {
   "cell_type": "code",
   "execution_count": 11,
   "id": "0a68f203-311a-4e66-94bc-9755749584d6",
   "metadata": {},
   "outputs": [
    {
     "data": {
      "text/plain": [
       "(6926, 13)"
      ]
     },
     "execution_count": 11,
     "metadata": {},
     "output_type": "execute_result"
    }
   ],
   "source": [
    "df.shape"
   ]
  },
  {
   "cell_type": "code",
   "execution_count": 12,
   "id": "0c6dcd25-44aa-49f0-a2fe-02fb6707a511",
   "metadata": {},
   "outputs": [
    {
     "data": {
      "text/plain": [
       "name               0\n",
       "year               0\n",
       "selling_price      0\n",
       "km_driven          0\n",
       "fuel               0\n",
       "seller_type        0\n",
       "transmission       0\n",
       "owner              0\n",
       "mileage          208\n",
       "engine           208\n",
       "max_power        205\n",
       "torque           209\n",
       "seats            208\n",
       "dtype: int64"
      ]
     },
     "execution_count": 12,
     "metadata": {},
     "output_type": "execute_result"
    }
   ],
   "source": [
    "# check for null values \n",
    "df.isnull().sum()"
   ]
  },
  {
   "cell_type": "code",
   "execution_count": 13,
   "id": "c5571caa-953e-4bc7-bcc9-ac68b9fca9d5",
   "metadata": {},
   "outputs": [],
   "source": [
    "df.dropna(inplace= True)"
   ]
  },
  {
   "cell_type": "code",
   "execution_count": 14,
   "id": "0fbdfe8b-08ce-4cc1-b1f0-2a6273fa205a",
   "metadata": {},
   "outputs": [
    {
     "data": {
      "text/html": [
       "<div>\n",
       "<style scoped>\n",
       "    .dataframe tbody tr th:only-of-type {\n",
       "        vertical-align: middle;\n",
       "    }\n",
       "\n",
       "    .dataframe tbody tr th {\n",
       "        vertical-align: top;\n",
       "    }\n",
       "\n",
       "    .dataframe thead th {\n",
       "        text-align: right;\n",
       "    }\n",
       "</style>\n",
       "<table border=\"1\" class=\"dataframe\">\n",
       "  <thead>\n",
       "    <tr style=\"text-align: right;\">\n",
       "      <th></th>\n",
       "      <th>name</th>\n",
       "      <th>year</th>\n",
       "      <th>selling_price</th>\n",
       "      <th>km_driven</th>\n",
       "      <th>fuel</th>\n",
       "      <th>seller_type</th>\n",
       "      <th>transmission</th>\n",
       "      <th>owner</th>\n",
       "      <th>mileage</th>\n",
       "      <th>engine</th>\n",
       "      <th>max_power</th>\n",
       "      <th>torque</th>\n",
       "      <th>seats</th>\n",
       "    </tr>\n",
       "  </thead>\n",
       "  <tbody>\n",
       "    <tr>\n",
       "      <th>0</th>\n",
       "      <td>Maruti Swift Dzire VDI</td>\n",
       "      <td>2014</td>\n",
       "      <td>450000</td>\n",
       "      <td>145500</td>\n",
       "      <td>Diesel</td>\n",
       "      <td>Individual</td>\n",
       "      <td>Manual</td>\n",
       "      <td>First Owner</td>\n",
       "      <td>23.4 kmpl</td>\n",
       "      <td>1248 CC</td>\n",
       "      <td>74 bhp</td>\n",
       "      <td>190Nm@ 2000rpm</td>\n",
       "      <td>5.0</td>\n",
       "    </tr>\n",
       "    <tr>\n",
       "      <th>1</th>\n",
       "      <td>Skoda Rapid 1.5 TDI Ambition</td>\n",
       "      <td>2014</td>\n",
       "      <td>370000</td>\n",
       "      <td>120000</td>\n",
       "      <td>Diesel</td>\n",
       "      <td>Individual</td>\n",
       "      <td>Manual</td>\n",
       "      <td>Second Owner</td>\n",
       "      <td>21.14 kmpl</td>\n",
       "      <td>1498 CC</td>\n",
       "      <td>103.52 bhp</td>\n",
       "      <td>250Nm@ 1500-2500rpm</td>\n",
       "      <td>5.0</td>\n",
       "    </tr>\n",
       "    <tr>\n",
       "      <th>2</th>\n",
       "      <td>Honda City 2017-2020 EXi</td>\n",
       "      <td>2006</td>\n",
       "      <td>158000</td>\n",
       "      <td>140000</td>\n",
       "      <td>Petrol</td>\n",
       "      <td>Individual</td>\n",
       "      <td>Manual</td>\n",
       "      <td>Third Owner</td>\n",
       "      <td>17.7 kmpl</td>\n",
       "      <td>1497 CC</td>\n",
       "      <td>78 bhp</td>\n",
       "      <td>12.7@ 2,700(kgm@ rpm)</td>\n",
       "      <td>5.0</td>\n",
       "    </tr>\n",
       "    <tr>\n",
       "      <th>3</th>\n",
       "      <td>Hyundai i20 Sportz Diesel</td>\n",
       "      <td>2010</td>\n",
       "      <td>225000</td>\n",
       "      <td>127000</td>\n",
       "      <td>Diesel</td>\n",
       "      <td>Individual</td>\n",
       "      <td>Manual</td>\n",
       "      <td>First Owner</td>\n",
       "      <td>23.0 kmpl</td>\n",
       "      <td>1396 CC</td>\n",
       "      <td>90 bhp</td>\n",
       "      <td>22.4 kgm at 1750-2750rpm</td>\n",
       "      <td>5.0</td>\n",
       "    </tr>\n",
       "    <tr>\n",
       "      <th>4</th>\n",
       "      <td>Maruti Swift VXI BSIII</td>\n",
       "      <td>2007</td>\n",
       "      <td>130000</td>\n",
       "      <td>120000</td>\n",
       "      <td>Petrol</td>\n",
       "      <td>Individual</td>\n",
       "      <td>Manual</td>\n",
       "      <td>First Owner</td>\n",
       "      <td>16.1 kmpl</td>\n",
       "      <td>1298 CC</td>\n",
       "      <td>88.2 bhp</td>\n",
       "      <td>11.5@ 4,500(kgm@ rpm)</td>\n",
       "      <td>5.0</td>\n",
       "    </tr>\n",
       "    <tr>\n",
       "      <th>...</th>\n",
       "      <td>...</td>\n",
       "      <td>...</td>\n",
       "      <td>...</td>\n",
       "      <td>...</td>\n",
       "      <td>...</td>\n",
       "      <td>...</td>\n",
       "      <td>...</td>\n",
       "      <td>...</td>\n",
       "      <td>...</td>\n",
       "      <td>...</td>\n",
       "      <td>...</td>\n",
       "      <td>...</td>\n",
       "      <td>...</td>\n",
       "    </tr>\n",
       "    <tr>\n",
       "      <th>6712</th>\n",
       "      <td>Maruti Wagon R VXI BS IV with ABS</td>\n",
       "      <td>2013</td>\n",
       "      <td>260000</td>\n",
       "      <td>50000</td>\n",
       "      <td>Petrol</td>\n",
       "      <td>Individual</td>\n",
       "      <td>Manual</td>\n",
       "      <td>Second Owner</td>\n",
       "      <td>18.9 kmpl</td>\n",
       "      <td>998 CC</td>\n",
       "      <td>67.1 bhp</td>\n",
       "      <td>90Nm@ 3500rpm</td>\n",
       "      <td>5.0</td>\n",
       "    </tr>\n",
       "    <tr>\n",
       "      <th>6713</th>\n",
       "      <td>Hyundai i20 Magna 1.4 CRDi</td>\n",
       "      <td>2014</td>\n",
       "      <td>475000</td>\n",
       "      <td>80000</td>\n",
       "      <td>Diesel</td>\n",
       "      <td>Individual</td>\n",
       "      <td>Manual</td>\n",
       "      <td>Second Owner</td>\n",
       "      <td>22.54 kmpl</td>\n",
       "      <td>1396 CC</td>\n",
       "      <td>88.73 bhp</td>\n",
       "      <td>219.7Nm@ 1500-2750rpm</td>\n",
       "      <td>5.0</td>\n",
       "    </tr>\n",
       "    <tr>\n",
       "      <th>6714</th>\n",
       "      <td>Hyundai i20 Magna</td>\n",
       "      <td>2013</td>\n",
       "      <td>320000</td>\n",
       "      <td>110000</td>\n",
       "      <td>Petrol</td>\n",
       "      <td>Individual</td>\n",
       "      <td>Manual</td>\n",
       "      <td>First Owner</td>\n",
       "      <td>18.5 kmpl</td>\n",
       "      <td>1197 CC</td>\n",
       "      <td>82.85 bhp</td>\n",
       "      <td>113.7Nm@ 4000rpm</td>\n",
       "      <td>5.0</td>\n",
       "    </tr>\n",
       "    <tr>\n",
       "      <th>6715</th>\n",
       "      <td>Hyundai Verna CRDi SX</td>\n",
       "      <td>2007</td>\n",
       "      <td>135000</td>\n",
       "      <td>119000</td>\n",
       "      <td>Diesel</td>\n",
       "      <td>Individual</td>\n",
       "      <td>Manual</td>\n",
       "      <td>Fourth &amp; Above Owner</td>\n",
       "      <td>16.8 kmpl</td>\n",
       "      <td>1493 CC</td>\n",
       "      <td>110 bhp</td>\n",
       "      <td>24@ 1,900-2,750(kgm@ rpm)</td>\n",
       "      <td>5.0</td>\n",
       "    </tr>\n",
       "    <tr>\n",
       "      <th>6716</th>\n",
       "      <td>Maruti Swift Dzire ZDi</td>\n",
       "      <td>2009</td>\n",
       "      <td>382000</td>\n",
       "      <td>120000</td>\n",
       "      <td>Diesel</td>\n",
       "      <td>Individual</td>\n",
       "      <td>Manual</td>\n",
       "      <td>First Owner</td>\n",
       "      <td>19.3 kmpl</td>\n",
       "      <td>1248 CC</td>\n",
       "      <td>73.9 bhp</td>\n",
       "      <td>190Nm@ 2000rpm</td>\n",
       "      <td>5.0</td>\n",
       "    </tr>\n",
       "  </tbody>\n",
       "</table>\n",
       "<p>6717 rows × 13 columns</p>\n",
       "</div>"
      ],
      "text/plain": [
       "                                   name  year  selling_price  km_driven  \\\n",
       "0                Maruti Swift Dzire VDI  2014         450000     145500   \n",
       "1          Skoda Rapid 1.5 TDI Ambition  2014         370000     120000   \n",
       "2              Honda City 2017-2020 EXi  2006         158000     140000   \n",
       "3             Hyundai i20 Sportz Diesel  2010         225000     127000   \n",
       "4                Maruti Swift VXI BSIII  2007         130000     120000   \n",
       "...                                 ...   ...            ...        ...   \n",
       "6712  Maruti Wagon R VXI BS IV with ABS  2013         260000      50000   \n",
       "6713         Hyundai i20 Magna 1.4 CRDi  2014         475000      80000   \n",
       "6714                  Hyundai i20 Magna  2013         320000     110000   \n",
       "6715              Hyundai Verna CRDi SX  2007         135000     119000   \n",
       "6716             Maruti Swift Dzire ZDi  2009         382000     120000   \n",
       "\n",
       "        fuel seller_type transmission                 owner     mileage  \\\n",
       "0     Diesel  Individual       Manual           First Owner   23.4 kmpl   \n",
       "1     Diesel  Individual       Manual          Second Owner  21.14 kmpl   \n",
       "2     Petrol  Individual       Manual           Third Owner   17.7 kmpl   \n",
       "3     Diesel  Individual       Manual           First Owner   23.0 kmpl   \n",
       "4     Petrol  Individual       Manual           First Owner   16.1 kmpl   \n",
       "...      ...         ...          ...                   ...         ...   \n",
       "6712  Petrol  Individual       Manual          Second Owner   18.9 kmpl   \n",
       "6713  Diesel  Individual       Manual          Second Owner  22.54 kmpl   \n",
       "6714  Petrol  Individual       Manual           First Owner   18.5 kmpl   \n",
       "6715  Diesel  Individual       Manual  Fourth & Above Owner   16.8 kmpl   \n",
       "6716  Diesel  Individual       Manual           First Owner   19.3 kmpl   \n",
       "\n",
       "       engine   max_power                     torque  seats  \n",
       "0     1248 CC      74 bhp             190Nm@ 2000rpm    5.0  \n",
       "1     1498 CC  103.52 bhp        250Nm@ 1500-2500rpm    5.0  \n",
       "2     1497 CC      78 bhp      12.7@ 2,700(kgm@ rpm)    5.0  \n",
       "3     1396 CC      90 bhp   22.4 kgm at 1750-2750rpm    5.0  \n",
       "4     1298 CC    88.2 bhp      11.5@ 4,500(kgm@ rpm)    5.0  \n",
       "...       ...         ...                        ...    ...  \n",
       "6712   998 CC    67.1 bhp              90Nm@ 3500rpm    5.0  \n",
       "6713  1396 CC   88.73 bhp      219.7Nm@ 1500-2750rpm    5.0  \n",
       "6714  1197 CC   82.85 bhp           113.7Nm@ 4000rpm    5.0  \n",
       "6715  1493 CC     110 bhp  24@ 1,900-2,750(kgm@ rpm)    5.0  \n",
       "6716  1248 CC    73.9 bhp             190Nm@ 2000rpm    5.0  \n",
       "\n",
       "[6717 rows x 13 columns]"
      ]
     },
     "execution_count": 14,
     "metadata": {},
     "output_type": "execute_result"
    }
   ],
   "source": [
    "df.reset_index(drop=True)"
   ]
  },
  {
   "cell_type": "code",
   "execution_count": 15,
   "id": "5175b84c-fe4d-47f3-ad75-d9442b52e08d",
   "metadata": {},
   "outputs": [
    {
     "data": {
      "text/plain": [
       "(6717, 13)"
      ]
     },
     "execution_count": 15,
     "metadata": {},
     "output_type": "execute_result"
    }
   ],
   "source": [
    "df.shape"
   ]
  },
  {
   "cell_type": "code",
   "execution_count": 16,
   "id": "86e05b3e-f9b5-4f82-819a-f3d125a2cb1e",
   "metadata": {},
   "outputs": [],
   "source": [
    "# drop unwanted columns \n",
    "df.drop(columns=['torque'], inplace=True)"
   ]
  },
  {
   "cell_type": "code",
   "execution_count": 17,
   "id": "0f520e28-d672-407b-acfb-89bb0abcc03f",
   "metadata": {},
   "outputs": [
    {
     "data": {
      "text/html": [
       "<div>\n",
       "<style scoped>\n",
       "    .dataframe tbody tr th:only-of-type {\n",
       "        vertical-align: middle;\n",
       "    }\n",
       "\n",
       "    .dataframe tbody tr th {\n",
       "        vertical-align: top;\n",
       "    }\n",
       "\n",
       "    .dataframe thead th {\n",
       "        text-align: right;\n",
       "    }\n",
       "</style>\n",
       "<table border=\"1\" class=\"dataframe\">\n",
       "  <thead>\n",
       "    <tr style=\"text-align: right;\">\n",
       "      <th></th>\n",
       "      <th>name</th>\n",
       "      <th>year</th>\n",
       "      <th>selling_price</th>\n",
       "      <th>km_driven</th>\n",
       "      <th>fuel</th>\n",
       "      <th>seller_type</th>\n",
       "      <th>transmission</th>\n",
       "      <th>owner</th>\n",
       "      <th>mileage</th>\n",
       "      <th>engine</th>\n",
       "      <th>max_power</th>\n",
       "      <th>seats</th>\n",
       "    </tr>\n",
       "  </thead>\n",
       "  <tbody>\n",
       "    <tr>\n",
       "      <th>0</th>\n",
       "      <td>Maruti Swift Dzire VDI</td>\n",
       "      <td>2014</td>\n",
       "      <td>450000</td>\n",
       "      <td>145500</td>\n",
       "      <td>Diesel</td>\n",
       "      <td>Individual</td>\n",
       "      <td>Manual</td>\n",
       "      <td>First Owner</td>\n",
       "      <td>23.4 kmpl</td>\n",
       "      <td>1248 CC</td>\n",
       "      <td>74 bhp</td>\n",
       "      <td>5.0</td>\n",
       "    </tr>\n",
       "    <tr>\n",
       "      <th>1</th>\n",
       "      <td>Skoda Rapid 1.5 TDI Ambition</td>\n",
       "      <td>2014</td>\n",
       "      <td>370000</td>\n",
       "      <td>120000</td>\n",
       "      <td>Diesel</td>\n",
       "      <td>Individual</td>\n",
       "      <td>Manual</td>\n",
       "      <td>Second Owner</td>\n",
       "      <td>21.14 kmpl</td>\n",
       "      <td>1498 CC</td>\n",
       "      <td>103.52 bhp</td>\n",
       "      <td>5.0</td>\n",
       "    </tr>\n",
       "    <tr>\n",
       "      <th>2</th>\n",
       "      <td>Honda City 2017-2020 EXi</td>\n",
       "      <td>2006</td>\n",
       "      <td>158000</td>\n",
       "      <td>140000</td>\n",
       "      <td>Petrol</td>\n",
       "      <td>Individual</td>\n",
       "      <td>Manual</td>\n",
       "      <td>Third Owner</td>\n",
       "      <td>17.7 kmpl</td>\n",
       "      <td>1497 CC</td>\n",
       "      <td>78 bhp</td>\n",
       "      <td>5.0</td>\n",
       "    </tr>\n",
       "    <tr>\n",
       "      <th>3</th>\n",
       "      <td>Hyundai i20 Sportz Diesel</td>\n",
       "      <td>2010</td>\n",
       "      <td>225000</td>\n",
       "      <td>127000</td>\n",
       "      <td>Diesel</td>\n",
       "      <td>Individual</td>\n",
       "      <td>Manual</td>\n",
       "      <td>First Owner</td>\n",
       "      <td>23.0 kmpl</td>\n",
       "      <td>1396 CC</td>\n",
       "      <td>90 bhp</td>\n",
       "      <td>5.0</td>\n",
       "    </tr>\n",
       "    <tr>\n",
       "      <th>4</th>\n",
       "      <td>Maruti Swift VXI BSIII</td>\n",
       "      <td>2007</td>\n",
       "      <td>130000</td>\n",
       "      <td>120000</td>\n",
       "      <td>Petrol</td>\n",
       "      <td>Individual</td>\n",
       "      <td>Manual</td>\n",
       "      <td>First Owner</td>\n",
       "      <td>16.1 kmpl</td>\n",
       "      <td>1298 CC</td>\n",
       "      <td>88.2 bhp</td>\n",
       "      <td>5.0</td>\n",
       "    </tr>\n",
       "  </tbody>\n",
       "</table>\n",
       "</div>"
      ],
      "text/plain": [
       "                           name  year  selling_price  km_driven    fuel  \\\n",
       "0        Maruti Swift Dzire VDI  2014         450000     145500  Diesel   \n",
       "1  Skoda Rapid 1.5 TDI Ambition  2014         370000     120000  Diesel   \n",
       "2      Honda City 2017-2020 EXi  2006         158000     140000  Petrol   \n",
       "3     Hyundai i20 Sportz Diesel  2010         225000     127000  Diesel   \n",
       "4        Maruti Swift VXI BSIII  2007         130000     120000  Petrol   \n",
       "\n",
       "  seller_type transmission         owner     mileage   engine   max_power  \\\n",
       "0  Individual       Manual   First Owner   23.4 kmpl  1248 CC      74 bhp   \n",
       "1  Individual       Manual  Second Owner  21.14 kmpl  1498 CC  103.52 bhp   \n",
       "2  Individual       Manual   Third Owner   17.7 kmpl  1497 CC      78 bhp   \n",
       "3  Individual       Manual   First Owner   23.0 kmpl  1396 CC      90 bhp   \n",
       "4  Individual       Manual   First Owner   16.1 kmpl  1298 CC    88.2 bhp   \n",
       "\n",
       "   seats  \n",
       "0    5.0  \n",
       "1    5.0  \n",
       "2    5.0  \n",
       "3    5.0  \n",
       "4    5.0  "
      ]
     },
     "execution_count": 17,
     "metadata": {},
     "output_type": "execute_result"
    }
   ],
   "source": [
    "df.head()"
   ]
  },
  {
   "cell_type": "code",
   "execution_count": 18,
   "id": "2f45d4d0-0004-48fc-ba91-a9205ce4c005",
   "metadata": {},
   "outputs": [
    {
     "name": "stdout",
     "output_type": "stream",
     "text": [
      "<class 'pandas.core.frame.DataFrame'>\n",
      "Index: 6717 entries, 0 to 8125\n",
      "Data columns (total 12 columns):\n",
      " #   Column         Non-Null Count  Dtype  \n",
      "---  ------         --------------  -----  \n",
      " 0   name           6717 non-null   object \n",
      " 1   year           6717 non-null   int64  \n",
      " 2   selling_price  6717 non-null   int64  \n",
      " 3   km_driven      6717 non-null   int64  \n",
      " 4   fuel           6717 non-null   object \n",
      " 5   seller_type    6717 non-null   object \n",
      " 6   transmission   6717 non-null   object \n",
      " 7   owner          6717 non-null   object \n",
      " 8   mileage        6717 non-null   object \n",
      " 9   engine         6717 non-null   object \n",
      " 10  max_power      6717 non-null   object \n",
      " 11  seats          6717 non-null   float64\n",
      "dtypes: float64(1), int64(3), object(8)\n",
      "memory usage: 682.2+ KB\n"
     ]
    }
   ],
   "source": [
    "df.info()"
   ]
  },
  {
   "cell_type": "code",
   "execution_count": 19,
   "id": "f5562e7f-37de-4c04-85ef-1d77ceca134d",
   "metadata": {},
   "outputs": [],
   "source": [
    "# EDA"
   ]
  },
  {
   "cell_type": "code",
   "execution_count": 20,
   "id": "cf60a2be-513d-4f6a-8bce-6d317730de35",
   "metadata": {},
   "outputs": [],
   "source": [
    "df['mileage'] = df['mileage'].str.extract(r'(\\d+(\\.\\d+)?)')[0]"
   ]
  },
  {
   "cell_type": "code",
   "execution_count": 21,
   "id": "632b74e3-f1a1-41c3-b6c4-242b67322fa5",
   "metadata": {},
   "outputs": [
    {
     "data": {
      "text/plain": [
       "array(['23.4', '21.14', '17.7', '23.0', '16.1', '20.14', '17.3', '23.59',\n",
       "       '20.0', '19.01', '19.3', '18.9', '18.15', '24.52', '19.7', '22.54',\n",
       "       '21.0', '25.5', '26.59', '21.5', '20.3', '21.4', '24.7', '18.2',\n",
       "       '16.8', '24.3', '14.0', '18.6', '33.44', '23.95', '17.0', '20.63',\n",
       "       '13.93', '16.0', '17.8', '18.5', '12.55', '12.99', '14.8', '13.5',\n",
       "       '26.0', '20.65', '27.3', '11.36', '17.68', '14.28', '18.53',\n",
       "       '14.84', '21.12', '20.36', '21.27', '18.16', '22.0', '25.1',\n",
       "       '20.51', '21.66', '25.2', '22.9', '16.02', '20.54', '22.77',\n",
       "       '15.71', '23.1', '19.02', '19.81', '26.2', '16.47', '15.04',\n",
       "       '19.1', '21.79', '18.8', '21.21', '15.37', '11.79', '19.0', '14.3',\n",
       "       '15.8', '15.1', '19.09', '22.32', '21.9', '14.53', '21.63',\n",
       "       '20.85', '20.45', '19.67', '23.01', '20.77', '17.92', '17.01',\n",
       "       '22.37', '19.33', '9.5', '12.83', '22.48', '16.78', '14.67',\n",
       "       '15.0', '13.96', '18.0', '12.07', '26.21', '10.8', '16.3', '13.6',\n",
       "       '14.74', '15.6', '19.56', '22.69', '19.16', '18.12', '12.1',\n",
       "       '17.5', '42.0', '20.4', '21.1', '19.44', '13.0', '21.43', '22.95',\n",
       "       '16.2', '15.3', '28.09', '17.4', '19.4', '26.6', '17.6', '28.4',\n",
       "       '14.1', '25.17', '22.74', '17.57', '16.95', '19.49', '17.21',\n",
       "       '13.2', '14.2', '26.8', '25.4', '11.5', '27.28', '17.97', '12.8',\n",
       "       '16.55', '12.05', '14.07', '21.02', '11.57', '17.9', '15.96',\n",
       "       '17.1', '17.19', '21.01', '24.0', '25.6', '21.38', '23.84',\n",
       "       '23.08', '14.24', '20.71', '15.64', '14.5', '16.34', '27.39',\n",
       "       '11.1', '13.9', '20.88', '20.92', '23.8', '24.4', '15.29', '21.19',\n",
       "       '22.5', '19.6', '23.65', '25.32', '23.5', '16.6', '23.9', '20.8',\n",
       "       '27.62', '12.9', '25.44', '17.88', '22.7', '17.2', '15.42',\n",
       "       '19.68', '18.7', '15.4', '19.34', '22.71', '25.8', '13.7', '12.2',\n",
       "       '18.49', '9.0', '0.0', '13.58', '10.1', '20.5', '25.0', '10.5',\n",
       "       '22.07', '22.3', '15.26', '20.62', '27.4', '23.2', '14.4', '18.4',\n",
       "       '30.46', '14.02', '11.0', '20.6', '22.05', '20.2', '18.1', '22.1',\n",
       "       '19.87', '13.01', '18.06', '26.1', '16.52', '13.55', '24.2',\n",
       "       '25.83', '11.2', '17.09', '21.03', '17.45', '21.64', '21.94',\n",
       "       '13.87', '19.98', '20.52', '23.57', '11.7', '17.43', '18.88',\n",
       "       '13.68', '11.18', '20.89', '11.8', '19.62', '21.7', '14.9', '19.5',\n",
       "       '10.91', '15.7', '20.73', '15.85', '20.7', '14.23', '16.5',\n",
       "       '17.36', '12.6', '16.36', '14.95', '16.9', '19.2', '16.96',\n",
       "       '22.15', '18.78', '19.61', '17.71', '18.3', '19.12', '19.72',\n",
       "       '12.0', '11.4', '23.03', '11.07', '15.9', '17.67', '20.46', '13.1',\n",
       "       '13.45', '24.8', '15.73', '15.11', '12.7', '21.2', '20.38',\n",
       "       '21.56', '13.22', '14.49', '15.05', '23.26', '15.41', '13.8',\n",
       "       '22.27', '32.52', '14.66', '12.12', '16.84', '14.09', '14.7',\n",
       "       '13.4', '15.5', '13.49', '11.88', '14.6', '10.75', '24.5', '11.74',\n",
       "       '16.07', '15.63', '26.3', '23.7', '25.47', '17.05', '23.3', '11.9',\n",
       "       '13.38', '20.86', '10.9', '18.25', '15.2', '20.37', '21.8',\n",
       "       '11.96', '24.04', '19.69', '13.73', '21.04', '25.01', '10.93',\n",
       "       '24.29', '13.44', '20.07', '19.08', '20.34', '11.68', '12.5',\n",
       "       '12.3', '23.87', '16.38', '17.42', '10.0', '18.24', '10.71',\n",
       "       '19.59', '16.7', '19.83', '21.76', '16.05', '20.28', '16.25',\n",
       "       '16.73', '18.48', '14.99', '18.76', '16.4', '19.64', '14.94',\n",
       "       '17.11', '22.8', '32.26', '33.0', '12.4', '18.44', '16.09',\n",
       "       '12.62', '21.13', '15.17', '21.73', '21.72', '12.85', '14.81',\n",
       "       '13.24', '21.49', '14.62', '26.83', '11.45', '12.08', '15.74',\n",
       "       '11.3', '14.21', '11.72', '16.51'], dtype=object)"
      ]
     },
     "execution_count": 21,
     "metadata": {},
     "output_type": "execute_result"
    }
   ],
   "source": [
    "df['mileage'].unique()"
   ]
  },
  {
   "cell_type": "code",
   "execution_count": 22,
   "id": "df6b44c4-5cd8-4549-82e6-110ac8c9afd1",
   "metadata": {},
   "outputs": [],
   "source": [
    "df['engine'] = df['engine'].str.replace('CC','')"
   ]
  },
  {
   "cell_type": "code",
   "execution_count": 23,
   "id": "b3aec858-85bb-4081-8b08-97d1ebbf13b9",
   "metadata": {},
   "outputs": [],
   "source": [
    "df['max_power'] = df['max_power'].str.replace('bhp','')"
   ]
  },
  {
   "cell_type": "code",
   "execution_count": 24,
   "id": "263bac7a-c67a-4d92-b2af-de9948ce8961",
   "metadata": {},
   "outputs": [
    {
     "data": {
      "text/html": [
       "<div>\n",
       "<style scoped>\n",
       "    .dataframe tbody tr th:only-of-type {\n",
       "        vertical-align: middle;\n",
       "    }\n",
       "\n",
       "    .dataframe tbody tr th {\n",
       "        vertical-align: top;\n",
       "    }\n",
       "\n",
       "    .dataframe thead th {\n",
       "        text-align: right;\n",
       "    }\n",
       "</style>\n",
       "<table border=\"1\" class=\"dataframe\">\n",
       "  <thead>\n",
       "    <tr style=\"text-align: right;\">\n",
       "      <th></th>\n",
       "      <th>name</th>\n",
       "      <th>year</th>\n",
       "      <th>selling_price</th>\n",
       "      <th>km_driven</th>\n",
       "      <th>fuel</th>\n",
       "      <th>seller_type</th>\n",
       "      <th>transmission</th>\n",
       "      <th>owner</th>\n",
       "      <th>mileage</th>\n",
       "      <th>engine</th>\n",
       "      <th>max_power</th>\n",
       "      <th>seats</th>\n",
       "    </tr>\n",
       "  </thead>\n",
       "  <tbody>\n",
       "    <tr>\n",
       "      <th>1295</th>\n",
       "      <td>Fiat Grande Punto 1.3 Emotion Pack 90HP (Diesel)</td>\n",
       "      <td>2011</td>\n",
       "      <td>280000</td>\n",
       "      <td>200000</td>\n",
       "      <td>Diesel</td>\n",
       "      <td>Individual</td>\n",
       "      <td>Manual</td>\n",
       "      <td>First Owner</td>\n",
       "      <td>20.5</td>\n",
       "      <td>1248</td>\n",
       "      <td>91.7</td>\n",
       "      <td>5.0</td>\n",
       "    </tr>\n",
       "    <tr>\n",
       "      <th>2431</th>\n",
       "      <td>Chevrolet Spark 1.0</td>\n",
       "      <td>2008</td>\n",
       "      <td>45000</td>\n",
       "      <td>70000</td>\n",
       "      <td>Petrol</td>\n",
       "      <td>Individual</td>\n",
       "      <td>Manual</td>\n",
       "      <td>First Owner</td>\n",
       "      <td>18.0</td>\n",
       "      <td>995</td>\n",
       "      <td>62</td>\n",
       "      <td>5.0</td>\n",
       "    </tr>\n",
       "    <tr>\n",
       "      <th>3747</th>\n",
       "      <td>Renault Duster 110PS Diesel RxZ</td>\n",
       "      <td>2012</td>\n",
       "      <td>320000</td>\n",
       "      <td>110000</td>\n",
       "      <td>Diesel</td>\n",
       "      <td>Individual</td>\n",
       "      <td>Manual</td>\n",
       "      <td>Third Owner</td>\n",
       "      <td>19.01</td>\n",
       "      <td>1461</td>\n",
       "      <td>108.45</td>\n",
       "      <td>5.0</td>\n",
       "    </tr>\n",
       "    <tr>\n",
       "      <th>8002</th>\n",
       "      <td>Renault Lodgy 85PS Std</td>\n",
       "      <td>2016</td>\n",
       "      <td>620000</td>\n",
       "      <td>7000</td>\n",
       "      <td>Diesel</td>\n",
       "      <td>Dealer</td>\n",
       "      <td>Manual</td>\n",
       "      <td>First Owner</td>\n",
       "      <td>21.04</td>\n",
       "      <td>1461</td>\n",
       "      <td>83.8</td>\n",
       "      <td>8.0</td>\n",
       "    </tr>\n",
       "    <tr>\n",
       "      <th>6127</th>\n",
       "      <td>Volkswagen Polo 1.2 MPI Comfortline</td>\n",
       "      <td>2016</td>\n",
       "      <td>385000</td>\n",
       "      <td>40000</td>\n",
       "      <td>Petrol</td>\n",
       "      <td>Individual</td>\n",
       "      <td>Manual</td>\n",
       "      <td>Second Owner</td>\n",
       "      <td>16.2</td>\n",
       "      <td>1199</td>\n",
       "      <td>74</td>\n",
       "      <td>5.0</td>\n",
       "    </tr>\n",
       "  </tbody>\n",
       "</table>\n",
       "</div>"
      ],
      "text/plain": [
       "                                                  name  year  selling_price  \\\n",
       "1295  Fiat Grande Punto 1.3 Emotion Pack 90HP (Diesel)  2011         280000   \n",
       "2431                               Chevrolet Spark 1.0  2008          45000   \n",
       "3747                   Renault Duster 110PS Diesel RxZ  2012         320000   \n",
       "8002                            Renault Lodgy 85PS Std  2016         620000   \n",
       "6127               Volkswagen Polo 1.2 MPI Comfortline  2016         385000   \n",
       "\n",
       "      km_driven    fuel seller_type transmission         owner mileage engine  \\\n",
       "1295     200000  Diesel  Individual       Manual   First Owner    20.5  1248    \n",
       "2431      70000  Petrol  Individual       Manual   First Owner    18.0   995    \n",
       "3747     110000  Diesel  Individual       Manual   Third Owner   19.01  1461    \n",
       "8002       7000  Diesel      Dealer       Manual   First Owner   21.04  1461    \n",
       "6127      40000  Petrol  Individual       Manual  Second Owner    16.2  1199    \n",
       "\n",
       "     max_power  seats  \n",
       "1295     91.7     5.0  \n",
       "2431       62     5.0  \n",
       "3747   108.45     5.0  \n",
       "8002     83.8     8.0  \n",
       "6127       74     5.0  "
      ]
     },
     "execution_count": 24,
     "metadata": {},
     "output_type": "execute_result"
    }
   ],
   "source": [
    "df.sample(5)"
   ]
  },
  {
   "cell_type": "code",
   "execution_count": 25,
   "id": "59a4bcdf-bcc3-4539-95c5-01bdae76d199",
   "metadata": {},
   "outputs": [],
   "source": [
    "df['mileage'] = df['mileage'].astype('float32')\n",
    "df['engine'] = df['engine'].astype('int32')\n",
    "df['max_power'] = df['max_power'].astype('float32')"
   ]
  },
  {
   "cell_type": "code",
   "execution_count": 26,
   "id": "9609fa83-10cb-4fc6-80e8-c3ec8b6eb386",
   "metadata": {},
   "outputs": [
    {
     "name": "stdout",
     "output_type": "stream",
     "text": [
      "<class 'pandas.core.frame.DataFrame'>\n",
      "Index: 6717 entries, 0 to 8125\n",
      "Data columns (total 12 columns):\n",
      " #   Column         Non-Null Count  Dtype  \n",
      "---  ------         --------------  -----  \n",
      " 0   name           6717 non-null   object \n",
      " 1   year           6717 non-null   int64  \n",
      " 2   selling_price  6717 non-null   int64  \n",
      " 3   km_driven      6717 non-null   int64  \n",
      " 4   fuel           6717 non-null   object \n",
      " 5   seller_type    6717 non-null   object \n",
      " 6   transmission   6717 non-null   object \n",
      " 7   owner          6717 non-null   object \n",
      " 8   mileage        6717 non-null   float32\n",
      " 9   engine         6717 non-null   int32  \n",
      " 10  max_power      6717 non-null   float32\n",
      " 11  seats          6717 non-null   float64\n",
      "dtypes: float32(2), float64(1), int32(1), int64(3), object(5)\n",
      "memory usage: 603.5+ KB\n"
     ]
    }
   ],
   "source": [
    "df.info()"
   ]
  },
  {
   "cell_type": "code",
   "execution_count": 27,
   "id": "4f014e9c-3235-4984-86af-525979f0a08a",
   "metadata": {},
   "outputs": [
    {
     "data": {
      "text/plain": [
       "year             0.427335\n",
       "selling_price    1.000000\n",
       "km_driven       -0.161265\n",
       "mileage         -0.108655\n",
       "engine           0.442772\n",
       "max_power        0.692323\n",
       "seats            0.158531\n",
       "Name: selling_price, dtype: float64"
      ]
     },
     "execution_count": 27,
     "metadata": {},
     "output_type": "execute_result"
    }
   ],
   "source": [
    "df.corr(numeric_only = True)['selling_price']"
   ]
  },
  {
   "cell_type": "code",
   "execution_count": 28,
   "id": "cf25ab59-d1db-4445-9b2c-0e62cfad5892",
   "metadata": {},
   "outputs": [],
   "source": [
    "# extracting brand name from name column\n",
    "df['brand_name'] = df['name'].str.split(' ').str[0]"
   ]
  },
  {
   "cell_type": "code",
   "execution_count": 29,
   "id": "75756c8d-1efa-4f1e-bc17-b22f71b1b68c",
   "metadata": {},
   "outputs": [
    {
     "data": {
      "text/plain": [
       "array(['Maruti', 'Skoda', 'Honda', 'Hyundai', 'Toyota', 'Ford', 'Renault',\n",
       "       'Mahindra', 'Tata', 'Chevrolet', 'Datsun', 'Jeep', 'Mercedes-Benz',\n",
       "       'Mitsubishi', 'Audi', 'Volkswagen', 'BMW', 'Nissan', 'Lexus',\n",
       "       'Jaguar', 'Land', 'MG', 'Volvo', 'Daewoo', 'Kia', 'Fiat', 'Force',\n",
       "       'Ambassador', 'Ashok', 'Isuzu', 'Opel'], dtype=object)"
      ]
     },
     "execution_count": 29,
     "metadata": {},
     "output_type": "execute_result"
    }
   ],
   "source": [
    "df['brand_name'].unique()"
   ]
  },
  {
   "cell_type": "code",
   "execution_count": 30,
   "id": "95cc25c8-2c2d-42ee-b7da-c22d74297d26",
   "metadata": {},
   "outputs": [
    {
     "name": "stdout",
     "output_type": "stream",
     "text": [
      "<class 'pandas.core.frame.DataFrame'>\n",
      "Index: 6717 entries, 0 to 8125\n",
      "Data columns (total 13 columns):\n",
      " #   Column         Non-Null Count  Dtype  \n",
      "---  ------         --------------  -----  \n",
      " 0   name           6717 non-null   object \n",
      " 1   year           6717 non-null   int64  \n",
      " 2   selling_price  6717 non-null   int64  \n",
      " 3   km_driven      6717 non-null   int64  \n",
      " 4   fuel           6717 non-null   object \n",
      " 5   seller_type    6717 non-null   object \n",
      " 6   transmission   6717 non-null   object \n",
      " 7   owner          6717 non-null   object \n",
      " 8   mileage        6717 non-null   float32\n",
      " 9   engine         6717 non-null   int32  \n",
      " 10  max_power      6717 non-null   float32\n",
      " 11  seats          6717 non-null   float64\n",
      " 12  brand_name     6717 non-null   object \n",
      "dtypes: float32(2), float64(1), int32(1), int64(3), object(6)\n",
      "memory usage: 656.0+ KB\n"
     ]
    }
   ],
   "source": [
    "df.info()"
   ]
  },
  {
   "cell_type": "code",
   "execution_count": 31,
   "id": "1b6f08e7-e049-4212-84f8-ecd1adda68a4",
   "metadata": {},
   "outputs": [],
   "source": [
    "df.drop(columns=['name'],inplace=True)"
   ]
  },
  {
   "cell_type": "code",
   "execution_count": 32,
   "id": "5cae81a9-75c1-4c6d-bdbd-1dbd3f04545d",
   "metadata": {},
   "outputs": [
    {
     "data": {
      "text/plain": [
       "Index(['year', 'selling_price', 'km_driven', 'fuel', 'seller_type',\n",
       "       'transmission', 'owner', 'mileage', 'engine', 'max_power', 'seats',\n",
       "       'brand_name'],\n",
       "      dtype='object')"
      ]
     },
     "execution_count": 32,
     "metadata": {},
     "output_type": "execute_result"
    }
   ],
   "source": [
    "df.columns"
   ]
  },
  {
   "cell_type": "code",
   "execution_count": 33,
   "id": "c1b93adc-48c5-46a7-9531-052dcb8f17ee",
   "metadata": {},
   "outputs": [],
   "source": [
    "# graphs"
   ]
  },
  {
   "cell_type": "code",
   "execution_count": 34,
   "id": "8cb6c5f1-f6a2-44f4-8244-4c0450984047",
   "metadata": {},
   "outputs": [
    {
     "ename": "SyntaxError",
     "evalue": "invalid syntax (196476688.py, line 1)",
     "output_type": "error",
     "traceback": [
      "\u001b[1;36m  Cell \u001b[1;32mIn[34], line 1\u001b[1;36m\u001b[0m\n\u001b[1;33m    sns. (df['selling_price'])\u001b[0m\n\u001b[1;37m         ^\u001b[0m\n\u001b[1;31mSyntaxError\u001b[0m\u001b[1;31m:\u001b[0m invalid syntax\n"
     ]
    }
   ],
   "source": [
    "sns. (df['selling_price'])\n",
    "plt.title('Distribution of Used Car Prices')"
   ]
  },
  {
   "cell_type": "code",
   "execution_count": null,
   "id": "355cd4ea-a656-45db-b93f-ae9ba1b36929",
   "metadata": {},
   "outputs": [],
   "source": [
    "df['brand_name'].value_counts().plot(kind='bar')"
   ]
  },
  {
   "cell_type": "code",
   "execution_count": null,
   "id": "c682d034-cd4a-4e23-b483-169933b75058",
   "metadata": {},
   "outputs": [],
   "source": [
    "sns.barplot(x=df['brand_name'],y=df['selling_price'])\n",
    "plt.xticks(rotation='vertical')\n",
    "plt.show()"
   ]
  },
  {
   "cell_type": "code",
   "execution_count": null,
   "id": "ae1a25a0-944a-424e-be95-3a9fcc55688e",
   "metadata": {},
   "outputs": [],
   "source": [
    "# how many cars avaliable for each year?\n",
    "df['year'].value_counts().plot(kind='bar')"
   ]
  },
  {
   "cell_type": "code",
   "execution_count": null,
   "id": "12c39816-c5ca-4013-bce7-947633f59f5b",
   "metadata": {},
   "outputs": [],
   "source": [
    "# average price per year\n",
    "sns.barplot(x='year', y='selling_price', data=df, estimator='mean')\n",
    "plt.xticks(rotation='vertical')\n",
    "plt.show()"
   ]
  },
  {
   "cell_type": "code",
   "execution_count": null,
   "id": "22794452-033b-4c3b-82be-2d6a2bd70113",
   "metadata": {},
   "outputs": [],
   "source": [
    "sns.histplot(df['km_driven'])"
   ]
  },
  {
   "cell_type": "code",
   "execution_count": null,
   "id": "ca279e33-4d41-428d-b0cf-9b62abc2d098",
   "metadata": {},
   "outputs": [],
   "source": [
    "sns.scatterplot(x='km_driven', y='selling_price', data=df, alpha=0.7)"
   ]
  },
  {
   "cell_type": "code",
   "execution_count": null,
   "id": "ad0cc8b8-18da-41e4-a4a8-b5ed9d8f8942",
   "metadata": {},
   "outputs": [],
   "source": [
    "df['fuel'].value_counts().plot(kind='bar')"
   ]
  },
  {
   "cell_type": "code",
   "execution_count": null,
   "id": "09444d41-3c45-410f-bcfe-0e02cfc38c17",
   "metadata": {},
   "outputs": [],
   "source": [
    "sns.barplot(x=df['fuel'],y=df['selling_price'])"
   ]
  },
  {
   "cell_type": "code",
   "execution_count": null,
   "id": "bc8b484f-52cb-4987-a4c4-c9545c9437cc",
   "metadata": {},
   "outputs": [],
   "source": [
    "df['seller_type'].value_counts().plot(kind='bar')"
   ]
  },
  {
   "cell_type": "code",
   "execution_count": null,
   "id": "352517fb-ebc0-4448-b3bf-aa56406e063c",
   "metadata": {},
   "outputs": [],
   "source": [
    "sns.barplot(x=df['seller_type'],y=df['selling_price'])"
   ]
  },
  {
   "cell_type": "code",
   "execution_count": null,
   "id": "71630ca1-4110-4a98-b51a-f3f708f5ba46",
   "metadata": {},
   "outputs": [],
   "source": [
    "df['transmission'].value_counts().plot(kind='bar')"
   ]
  },
  {
   "cell_type": "code",
   "execution_count": null,
   "id": "7a6ff637-68d4-4fda-a9f1-a3949cbedf39",
   "metadata": {},
   "outputs": [],
   "source": [
    "sns.barplot(x=df['transmission'],y=df['selling_price'])"
   ]
  },
  {
   "cell_type": "code",
   "execution_count": null,
   "id": "0476a1f8-8cad-48c2-9fe4-0ae1e2bfb2dd",
   "metadata": {},
   "outputs": [],
   "source": [
    "df['owner'].value_counts().plot(kind='bar')"
   ]
  },
  {
   "cell_type": "code",
   "execution_count": null,
   "id": "5b3dcbf2-82e0-4df1-bd2c-f745cad841b6",
   "metadata": {},
   "outputs": [],
   "source": [
    "sns.barplot(x=df['owner'],y=df['selling_price'])\n",
    "plt.xticks(rotation='vertical')\n",
    "plt.show()"
   ]
  },
  {
   "cell_type": "code",
   "execution_count": null,
   "id": "38b923cf-7366-42f6-aa88-d83699bbfad2",
   "metadata": {},
   "outputs": [],
   "source": [
    "sns.scatterplot(x='mileage', y='selling_price', data=df)"
   ]
  },
  {
   "cell_type": "code",
   "execution_count": null,
   "id": "84e7833b-5465-4d6b-9039-0b70ced334ea",
   "metadata": {},
   "outputs": [],
   "source": [
    "sns.scatterplot(x='max_power', y='selling_price', data=df)"
   ]
  },
  {
   "cell_type": "code",
   "execution_count": null,
   "id": "4122f07f-98cc-42ac-8d84-6ba989853645",
   "metadata": {},
   "outputs": [],
   "source": [
    "sns.scatterplot(x='engine', y='selling_price', data=df)"
   ]
  },
  {
   "cell_type": "code",
   "execution_count": null,
   "id": "7787af22-dde4-4ac1-a292-137cdad504cb",
   "metadata": {},
   "outputs": [],
   "source": [
    "df['seats'].value_counts().plot(kind='bar')"
   ]
  },
  {
   "cell_type": "code",
   "execution_count": null,
   "id": "4aa6260c-35e5-416b-a34c-115fa55ec2b3",
   "metadata": {},
   "outputs": [],
   "source": [
    "sns.barplot(x=df['owner'],y=df['selling_price'])\n",
    "plt.xticks(rotation='vertical')\n",
    "plt.show()"
   ]
  },
  {
   "cell_type": "code",
   "execution_count": null,
   "id": "6162fc50-f5f3-4a7a-97af-7f6e54a8a8a5",
   "metadata": {},
   "outputs": [],
   "source": [
    "# Correlation heatmap\n",
    "plt.figure(figsize=(12, 8))\n",
    "sns.heatmap(df.corr(numeric_only= True), annot=True, cmap='coolwarm', fmt='.2f')\n",
    "plt.title('Feature Correlation Matrix')\n",
    "plt.show()"
   ]
  },
  {
   "cell_type": "code",
   "execution_count": null,
   "id": "ca805bab-8872-475d-9390-7c2066d24f44",
   "metadata": {},
   "outputs": [],
   "source": [
    "df.reset_index(inplace=True)"
   ]
  },
  {
   "cell_type": "code",
   "execution_count": null,
   "id": "6992af74-034d-4be0-b8b9-958c47b0a78a",
   "metadata": {},
   "outputs": [],
   "source": [
    "df.info()"
   ]
  },
  {
   "cell_type": "code",
   "execution_count": null,
   "id": "ff0e7010-5dfb-480e-938a-2b77cbf92f47",
   "metadata": {},
   "outputs": [],
   "source": [
    "df.drop(columns=['index'], inplace=True)"
   ]
  },
  {
   "cell_type": "code",
   "execution_count": null,
   "id": "80f1dfb4-3348-4b6a-b54f-ba8302179c6f",
   "metadata": {},
   "outputs": [],
   "source": [
    "df.info()"
   ]
  },
  {
   "cell_type": "code",
   "execution_count": null,
   "id": "f631e27b-1bdb-4dad-8821-9dfef93cff1b",
   "metadata": {},
   "outputs": [],
   "source": [
    "# Model building"
   ]
  },
  {
   "cell_type": "code",
   "execution_count": null,
   "id": "a27a903b-15e9-4bb4-948b-0bc8f5272d43",
   "metadata": {},
   "outputs": [],
   "source": [
    "df.head(10)"
   ]
  },
  {
   "cell_type": "code",
   "execution_count": null,
   "id": "474d8483-3393-4083-aea1-de026e74a1fc",
   "metadata": {},
   "outputs": [],
   "source": [
    "#Converting this new clean dataframe to csv file to use in streamlit app\n",
    "df.to_csv('new car.csv')"
   ]
  },
  {
   "cell_type": "code",
   "execution_count": null,
   "id": "9aa5ef6a-d827-4186-9f2b-ec054ba1c8bf",
   "metadata": {},
   "outputs": [],
   "source": [
    "df.shape"
   ]
  },
  {
   "cell_type": "code",
   "execution_count": null,
   "id": "df15cc6d-1a60-4403-a2ce-103bd5cdfb98",
   "metadata": {},
   "outputs": [],
   "source": [
    "X = df.drop(columns=['selling_price'])\n",
    "y = df['selling_price']"
   ]
  },
  {
   "cell_type": "code",
   "execution_count": null,
   "id": "3edab46e-dc33-42b9-b9cc-c47b982deb23",
   "metadata": {},
   "outputs": [],
   "source": [
    "X"
   ]
  },
  {
   "cell_type": "code",
   "execution_count": null,
   "id": "d6174d83-9963-44a5-916c-10b03fb5130a",
   "metadata": {},
   "outputs": [],
   "source": [
    "y"
   ]
  },
  {
   "cell_type": "code",
   "execution_count": null,
   "id": "fed881b8-c89b-4ccd-a053-72f3db0d0db3",
   "metadata": {},
   "outputs": [],
   "source": [
    "from sklearn.model_selection import train_test_split\n",
    "X_train,X_test,y_train,y_test = train_test_split(X,y,test_size=0.20)"
   ]
  },
  {
   "cell_type": "code",
   "execution_count": null,
   "id": "dc6e3e5c-35bf-4d71-9664-3df9a79e8525",
   "metadata": {},
   "outputs": [],
   "source": [
    "X_train"
   ]
  },
  {
   "cell_type": "code",
   "execution_count": null,
   "id": "807c4fc2-e67b-40c0-ba3c-bbe476e35648",
   "metadata": {},
   "outputs": [],
   "source": [
    "import pickle\n",
    "from sklearn.model_selection import train_test_split\n",
    "from sklearn.ensemble import RandomForestRegressor\n",
    "from sklearn.linear_model import LinearRegression\n",
    "from sklearn.tree import DecisionTreeRegressor\n",
    "from sklearn.preprocessing import StandardScaler\n",
    "from sklearn.pipeline import Pipeline\n",
    "from sklearn.metrics import mean_squared_error, r2_score\n",
    "from sklearn.compose import ColumnTransformer\n",
    "from sklearn.preprocessing import OneHotEncoder"
   ]
  },
  {
   "cell_type": "code",
   "execution_count": null,
   "id": "d63a4de6-1e9c-48ab-b4b7-6b5310d83cf8",
   "metadata": {},
   "outputs": [],
   "source": [
    "ohe=OneHotEncoder()\n",
    "ohe.fit(X[['fuel','seller_type','transmission','owner','brand_name']])"
   ]
  },
  {
   "cell_type": "code",
   "execution_count": null,
   "id": "89338cf8-1c99-48cb-9e69-89addf19b7c1",
   "metadata": {},
   "outputs": [],
   "source": [
    "# Random Forest Regressor\n",
    "step1 = ColumnTransformer(\n",
    "    transformers=[\n",
    "        ('ohe', OneHotEncoder(categories=ohe.categories_), ['fuel', 'seller_type', 'transmission', 'owner', 'brand_name'])\n",
    "    ],\n",
    "    remainder='passthrough'\n",
    ")\n",
    "step2 = RandomForestRegressor()\n",
    "pipe = Pipeline([\n",
    "    ('step1',step1),\n",
    "    ('step2',step2)\n",
    "])\n",
    "pipe.fit(X_train,y_train)\n",
    "y_pred = pipe.predict(X_test)\n",
    "print('R2 score',r2_score(y_test,y_pred))"
   ]
  },
  {
   "cell_type": "code",
   "execution_count": null,
   "id": "844ec4ed-face-40c9-87a3-aca84a8eae84",
   "metadata": {},
   "outputs": [],
   "source": [
    "pickle.dump(pipe, open('pipeline.pkl', 'wb'))"
   ]
  }
 ],
 "metadata": {
  "kernelspec": {
   "display_name": "Python 3 (ipykernel)",
   "language": "python",
   "name": "python3"
  },
  "language_info": {
   "codemirror_mode": {
    "name": "ipython",
    "version": 3
   },
   "file_extension": ".py",
   "mimetype": "text/x-python",
   "name": "python",
   "nbconvert_exporter": "python",
   "pygments_lexer": "ipython3",
   "version": "3.11.4"
  }
 },
 "nbformat": 4,
 "nbformat_minor": 5
}
